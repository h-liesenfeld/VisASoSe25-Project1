{
 "cells": [
  {
   "cell_type": "code",
   "execution_count": 1,
   "id": "540283ee",
   "metadata": {},
   "outputs": [],
   "source": [
    "import pandas as pd\n",
    "import numpy as np"
   ]
  },
  {
   "cell_type": "code",
   "execution_count": 2,
   "id": "11963f9b",
   "metadata": {},
   "outputs": [],
   "source": [
    "recommendations = pd.read_csv('recommendations-2021-12-31.csv')"
   ]
  },
  {
   "cell_type": "markdown",
   "id": "6de56372",
   "metadata": {},
   "source": [
    "The 'Bayes average' column of the recommendations dataset contains values of different formatting: some floats, some integers, clearly the correct format is a float with two decimal points. To clean this, we manually transformed the floats to integers since there were only few to then automatically transform them back to floats and round them to two decimal points:"
   ]
  },
  {
   "cell_type": "code",
   "execution_count": 3,
   "id": "6d565722",
   "metadata": {},
   "outputs": [],
   "source": [
    "recommendations['Bayes average'] = recommendations['Bayes average']/1000\n",
    "recommendations['Bayes average'] = round(recommendations['Bayes average'], 2)"
   ]
  },
  {
   "cell_type": "code",
   "execution_count": 4,
   "id": "f61bb9a4",
   "metadata": {},
   "outputs": [
    {
     "data": {
      "text/plain": [
       "0      8.51\n",
       "1      8.44\n",
       "2      8.42\n",
       "3      8.27\n",
       "4      8.26\n",
       "       ... \n",
       "995    6.54\n",
       "996    6.54\n",
       "997    6.54\n",
       "998    6.54\n",
       "999    6.54\n",
       "Name: Bayes average, Length: 1000, dtype: float64"
      ]
     },
     "execution_count": 4,
     "metadata": {},
     "output_type": "execute_result"
    }
   ],
   "source": [
    "recommendations['Bayes average']"
   ]
  },
  {
   "cell_type": "markdown",
   "id": "d359b461",
   "metadata": {},
   "source": [
    "There are a few columns that will likely not be needed for the analysis but contain a lot of data, so we dropped them to compress the dataset:"
   ]
  },
  {
   "cell_type": "code",
   "execution_count": 5,
   "id": "ebcec81a",
   "metadata": {
    "scrolled": true
   },
   "outputs": [],
   "source": [
    "recommendations = recommendations.drop(columns=['URL', 'Thumbnail'])"
   ]
  },
  {
   "cell_type": "markdown",
   "id": "52518880",
   "metadata": {},
   "source": [
    "There are also some columns that might have been used for the analysis but had a lot of data missing, namely the columns 'recommendation7' to 'recommendation28'. To clean this up you could either drop the rows that contain empty data or the columns. We decided to drop the columns since there are still the recommendations 1 to 6 and we wanted to keep the top-1000 dataset complete."
   ]
  },
  {
   "cell_type": "code",
   "execution_count": 6,
   "id": "95d33158",
   "metadata": {},
   "outputs": [],
   "source": [
    "recommendations = recommendations.drop(columns=['recommendation7', 'recommendation8', 'recommendation9', 'recommendation10',\n",
    "                                               'recommendation11', 'recommendation12', 'recommendation13', 'recommendation14',\n",
    "                                               'recommendation15', 'recommendation16', 'recommendation17', 'recommendation18',\n",
    "                                               'recommendation19', 'recommendation20', 'recommendation21', 'recommendation22',\n",
    "                                               'recommendation23', 'recommendation24', 'recommendation25', 'recommendation26',\n",
    "                                               'recommendation27', 'recommendation28'])"
   ]
  },
  {
   "cell_type": "code",
   "execution_count": 7,
   "id": "87358214",
   "metadata": {},
   "outputs": [
    {
     "data": {
      "text/html": [
       "<div>\n",
       "<style scoped>\n",
       "    .dataframe tbody tr th:only-of-type {\n",
       "        vertical-align: middle;\n",
       "    }\n",
       "\n",
       "    .dataframe tbody tr th {\n",
       "        vertical-align: top;\n",
       "    }\n",
       "\n",
       "    .dataframe thead th {\n",
       "        text-align: right;\n",
       "    }\n",
       "</style>\n",
       "<table border=\"1\" class=\"dataframe\">\n",
       "  <thead>\n",
       "    <tr style=\"text-align: right;\">\n",
       "      <th></th>\n",
       "      <th>ID</th>\n",
       "      <th>Name</th>\n",
       "      <th>Year</th>\n",
       "      <th>Rank</th>\n",
       "      <th>Average</th>\n",
       "      <th>Bayes average</th>\n",
       "      <th>Users rated</th>\n",
       "      <th>recommendation1</th>\n",
       "      <th>recommendation2</th>\n",
       "      <th>recommendation3</th>\n",
       "      <th>recommendation4</th>\n",
       "      <th>recommendation5</th>\n",
       "      <th>recommendation6</th>\n",
       "    </tr>\n",
       "  </thead>\n",
       "  <tbody>\n",
       "    <tr>\n",
       "      <th>0</th>\n",
       "      <td>174430</td>\n",
       "      <td>Gloomhaven</td>\n",
       "      <td>2017</td>\n",
       "      <td>1</td>\n",
       "      <td>8.74</td>\n",
       "      <td>8.51</td>\n",
       "      <td>47555</td>\n",
       "      <td>291457</td>\n",
       "      <td>295770</td>\n",
       "      <td>96848</td>\n",
       "      <td>255984</td>\n",
       "      <td>180263</td>\n",
       "      <td>162886</td>\n",
       "    </tr>\n",
       "    <tr>\n",
       "      <th>1</th>\n",
       "      <td>161936</td>\n",
       "      <td>Pandemic Legacy: Season 1</td>\n",
       "      <td>2015</td>\n",
       "      <td>2</td>\n",
       "      <td>8.60</td>\n",
       "      <td>8.44</td>\n",
       "      <td>44877</td>\n",
       "      <td>221107</td>\n",
       "      <td>314040</td>\n",
       "      <td>239188</td>\n",
       "      <td>224037</td>\n",
       "      <td>266507</td>\n",
       "      <td>198928</td>\n",
       "    </tr>\n",
       "    <tr>\n",
       "      <th>2</th>\n",
       "      <td>224517</td>\n",
       "      <td>Brass: Birmingham</td>\n",
       "      <td>2018</td>\n",
       "      <td>3</td>\n",
       "      <td>8.67</td>\n",
       "      <td>8.42</td>\n",
       "      <td>25216</td>\n",
       "      <td>220308</td>\n",
       "      <td>251247</td>\n",
       "      <td>167791</td>\n",
       "      <td>341169</td>\n",
       "      <td>125153</td>\n",
       "      <td>284378</td>\n",
       "    </tr>\n",
       "    <tr>\n",
       "      <th>3</th>\n",
       "      <td>167791</td>\n",
       "      <td>Terraforming Mars</td>\n",
       "      <td>2016</td>\n",
       "      <td>4</td>\n",
       "      <td>8.42</td>\n",
       "      <td>8.27</td>\n",
       "      <td>73742</td>\n",
       "      <td>341169</td>\n",
       "      <td>169786</td>\n",
       "      <td>316554</td>\n",
       "      <td>224517</td>\n",
       "      <td>183394</td>\n",
       "      <td>193738</td>\n",
       "    </tr>\n",
       "    <tr>\n",
       "      <th>4</th>\n",
       "      <td>233078</td>\n",
       "      <td>Twilight Imperium: Fourth Edition</td>\n",
       "      <td>2017</td>\n",
       "      <td>5</td>\n",
       "      <td>8.68</td>\n",
       "      <td>8.26</td>\n",
       "      <td>15911</td>\n",
       "      <td>246900</td>\n",
       "      <td>187645</td>\n",
       "      <td>205896</td>\n",
       "      <td>237182</td>\n",
       "      <td>283355</td>\n",
       "      <td>169786</td>\n",
       "    </tr>\n",
       "    <tr>\n",
       "      <th>...</th>\n",
       "      <td>...</td>\n",
       "      <td>...</td>\n",
       "      <td>...</td>\n",
       "      <td>...</td>\n",
       "      <td>...</td>\n",
       "      <td>...</td>\n",
       "      <td>...</td>\n",
       "      <td>...</td>\n",
       "      <td>...</td>\n",
       "      <td>...</td>\n",
       "      <td>...</td>\n",
       "      <td>...</td>\n",
       "      <td>...</td>\n",
       "    </tr>\n",
       "    <tr>\n",
       "      <th>995</th>\n",
       "      <td>27364</td>\n",
       "      <td>Caylus Magna Carta</td>\n",
       "      <td>2007</td>\n",
       "      <td>996</td>\n",
       "      <td>6.91</td>\n",
       "      <td>6.54</td>\n",
       "      <td>4881</td>\n",
       "      <td>66362</td>\n",
       "      <td>22345</td>\n",
       "      <td>27173</td>\n",
       "      <td>25554</td>\n",
       "      <td>8217</td>\n",
       "      <td>9216</td>\n",
       "    </tr>\n",
       "    <tr>\n",
       "      <th>996</th>\n",
       "      <td>327</td>\n",
       "      <td>Loopin' Louie</td>\n",
       "      <td>1992</td>\n",
       "      <td>997</td>\n",
       "      <td>6.76</td>\n",
       "      <td>6.54</td>\n",
       "      <td>8681</td>\n",
       "      <td>17329</td>\n",
       "      <td>145639</td>\n",
       "      <td>153938</td>\n",
       "      <td>150</td>\n",
       "      <td>165722</td>\n",
       "      <td>36648</td>\n",
       "    </tr>\n",
       "    <tr>\n",
       "      <th>997</th>\n",
       "      <td>124</td>\n",
       "      <td>Primordial Soup</td>\n",
       "      <td>1997</td>\n",
       "      <td>998</td>\n",
       "      <td>6.94</td>\n",
       "      <td>6.54</td>\n",
       "      <td>4591</td>\n",
       "      <td>19600</td>\n",
       "      <td>3307</td>\n",
       "      <td>18</td>\n",
       "      <td>2842</td>\n",
       "      <td>554</td>\n",
       "      <td>1159</td>\n",
       "    </tr>\n",
       "    <tr>\n",
       "      <th>998</th>\n",
       "      <td>37628</td>\n",
       "      <td>Haggis</td>\n",
       "      <td>2010</td>\n",
       "      <td>999</td>\n",
       "      <td>6.97</td>\n",
       "      <td>6.54</td>\n",
       "      <td>4051</td>\n",
       "      <td>156373</td>\n",
       "      <td>6688</td>\n",
       "      <td>251433</td>\n",
       "      <td>152</td>\n",
       "      <td>354</td>\n",
       "      <td>619</td>\n",
       "    </tr>\n",
       "    <tr>\n",
       "      <th>999</th>\n",
       "      <td>230933</td>\n",
       "      <td>Merlin</td>\n",
       "      <td>2017</td>\n",
       "      <td>1000</td>\n",
       "      <td>7.12</td>\n",
       "      <td>6.54</td>\n",
       "      <td>3136</td>\n",
       "      <td>193558</td>\n",
       "      <td>256570</td>\n",
       "      <td>245934</td>\n",
       "      <td>300327</td>\n",
       "      <td>137408</td>\n",
       "      <td>245638</td>\n",
       "    </tr>\n",
       "  </tbody>\n",
       "</table>\n",
       "<p>1000 rows × 13 columns</p>\n",
       "</div>"
      ],
      "text/plain": [
       "         ID                               Name  Year  Rank  Average  \\\n",
       "0    174430                         Gloomhaven  2017     1     8.74   \n",
       "1    161936          Pandemic Legacy: Season 1  2015     2     8.60   \n",
       "2    224517                  Brass: Birmingham  2018     3     8.67   \n",
       "3    167791                  Terraforming Mars  2016     4     8.42   \n",
       "4    233078  Twilight Imperium: Fourth Edition  2017     5     8.68   \n",
       "..      ...                                ...   ...   ...      ...   \n",
       "995   27364                 Caylus Magna Carta  2007   996     6.91   \n",
       "996     327                      Loopin' Louie  1992   997     6.76   \n",
       "997     124                    Primordial Soup  1997   998     6.94   \n",
       "998   37628                             Haggis  2010   999     6.97   \n",
       "999  230933                             Merlin  2017  1000     7.12   \n",
       "\n",
       "     Bayes average  Users rated  recommendation1  recommendation2  \\\n",
       "0             8.51        47555           291457           295770   \n",
       "1             8.44        44877           221107           314040   \n",
       "2             8.42        25216           220308           251247   \n",
       "3             8.27        73742           341169           169786   \n",
       "4             8.26        15911           246900           187645   \n",
       "..             ...          ...              ...              ...   \n",
       "995           6.54         4881            66362            22345   \n",
       "996           6.54         8681            17329           145639   \n",
       "997           6.54         4591            19600             3307   \n",
       "998           6.54         4051           156373             6688   \n",
       "999           6.54         3136           193558           256570   \n",
       "\n",
       "     recommendation3  recommendation4  recommendation5  recommendation6  \n",
       "0              96848           255984           180263           162886  \n",
       "1             239188           224037           266507           198928  \n",
       "2             167791           341169           125153           284378  \n",
       "3             316554           224517           183394           193738  \n",
       "4             205896           237182           283355           169786  \n",
       "..               ...              ...              ...              ...  \n",
       "995            27173            25554             8217             9216  \n",
       "996           153938              150           165722            36648  \n",
       "997               18             2842              554             1159  \n",
       "998           251433              152              354              619  \n",
       "999           245934           300327           137408           245638  \n",
       "\n",
       "[1000 rows x 13 columns]"
      ]
     },
     "execution_count": 7,
     "metadata": {},
     "output_type": "execute_result"
    }
   ],
   "source": [
    "recommendations"
   ]
  },
  {
   "cell_type": "code",
   "execution_count": 8,
   "id": "fbbbb92d",
   "metadata": {},
   "outputs": [],
   "source": [
    "recommendations.to_csv('recommendations-2021-12-31_clean.csv')"
   ]
  },
  {
   "cell_type": "markdown",
   "id": "fa97af5d",
   "metadata": {},
   "source": [
    "Next, we moved on to the bgg_gamesitems dataset."
   ]
  },
  {
   "cell_type": "code",
   "execution_count": 9,
   "id": "fbd2e384",
   "metadata": {},
   "outputs": [],
   "source": [
    "bgg_gamesitems = pd.read_csv('bgg_Gameitems.csv')"
   ]
  },
  {
   "cell_type": "markdown",
   "id": "a8d0158c",
   "metadata": {},
   "source": [
    "Like in the recommendations dataset, the bgg_gamesitems datset had a lot of columns with issues. We dropped the following columns because they either had little to no data or were unclear in their significance to the analysis or were not needed for the analysis."
   ]
  },
  {
   "cell_type": "code",
   "execution_count": 10,
   "id": "fad71e50",
   "metadata": {},
   "outputs": [],
   "source": [
    "bgg_gamesitems = bgg_gamesitems.drop(columns=['bga_id', 'dbpedia_id', 'luding_id', 'spielen_id', 'wikidata_id', 'wikipedia_id',\n",
    "                                             'implementation', 'integration', 'cooperative', 'compilation', 'compilation_of', \n",
    "                                             'language_dependency', 'min_age_rec'])\n"
   ]
  },
  {
   "cell_type": "markdown",
   "id": "638e785e",
   "metadata": {},
   "source": [
    "Next, we cleaned up the NA-values from all the columns with numerical values that were needed or possibly relevant for the analysis. The data import into excel had somehow converted some of these numbers to floats so we typecast them back to integers where required."
   ]
  },
  {
   "cell_type": "code",
   "execution_count": 11,
   "id": "2c1c40e1",
   "metadata": {},
   "outputs": [],
   "source": [
    "bgg_gamesitems = bgg_gamesitems.dropna(subset=['rank', 'year', 'min_players', 'max_players', 'min_time', 'max_time',\n",
    "                                               'min_players_best', 'max_players_best', 'min_age', 'num_votes', 'complexity'])\n",
    "bgg_gamesitems['year'] = bgg_gamesitems['year'].astype(int)\n",
    "bgg_gamesitems['rank'] = bgg_gamesitems['rank'].astype(int)\n",
    "bgg_gamesitems['min_players'] = bgg_gamesitems['min_players'].astype(int)\n",
    "bgg_gamesitems['max_players'] = bgg_gamesitems['max_players'].astype(int)\n",
    "bgg_gamesitems['min_age'] = bgg_gamesitems['min_age'].astype(int)\n",
    "bgg_gamesitems['min_players_rec'] = bgg_gamesitems['min_players_rec'].astype(int)\n",
    "bgg_gamesitems['max_players_rec'] = bgg_gamesitems['max_players_rec'].astype(int)\n",
    "bgg_gamesitems['min_players_best'] = bgg_gamesitems['min_players_best'].astype(int)\n",
    "bgg_gamesitems['max_players_best'] = bgg_gamesitems['max_players_best'].astype(int)\n",
    "bgg_gamesitems['min_time'] = bgg_gamesitems['min_time'].astype(int)\n",
    "bgg_gamesitems['max_time'] = bgg_gamesitems['max_time'].astype(int)\n",
    "bgg_gamesitems['num_votes'] = bgg_gamesitems['num_votes'].astype(int)"
   ]
  },
  {
   "cell_type": "markdown",
   "id": "c15dea53",
   "metadata": {},
   "source": [
    "For the columns of type float we rounded all of the values to two decimal points for uniformity"
   ]
  },
  {
   "cell_type": "code",
   "execution_count": 12,
   "id": "033a8516",
   "metadata": {},
   "outputs": [],
   "source": [
    "bgg_gamesitems['avg_rating'] = round(bgg_gamesitems['avg_rating'], 2)\n",
    "bgg_gamesitems['stddev_rating'] = round(bgg_gamesitems['stddev_rating'], 2)\n",
    "bgg_gamesitems['bayes_rating'] = round(bgg_gamesitems['bayes_rating'], 2)\n",
    "bgg_gamesitems['complexity'] = round(bgg_gamesitems['complexity'], 2)"
   ]
  },
  {
   "cell_type": "markdown",
   "id": "b9529c68",
   "metadata": {},
   "source": [
    "There were still some missing values in the columns with string datatype, some of the missing values were already marked as (Unknown) or (Uncredited) so we replace missing values respectively."
   ]
  },
  {
   "cell_type": "code",
   "execution_count": 13,
   "id": "2ad4f190",
   "metadata": {},
   "outputs": [],
   "source": [
    "bgg_gamesitems['game_type'] = bgg_gamesitems['game_type'].fillna('(Unknown)')\n",
    "bgg_gamesitems['artist'] = bgg_gamesitems['artist'].fillna('(Uncredited)')\n",
    "bgg_gamesitems['publisher'] = bgg_gamesitems['publisher'].fillna('(Unknown)')\n",
    "bgg_gamesitems['category'] = bgg_gamesitems['category'].fillna('(Unknown)')\n",
    "bgg_gamesitems['mechanic'] = bgg_gamesitems['mechanic'].fillna('(Unknown)')\n",
    "bgg_gamesitems['family'] = bgg_gamesitems['family'].fillna('(Unknown)')"
   ]
  },
  {
   "cell_type": "markdown",
   "id": "d07518a6",
   "metadata": {},
   "source": [
    "Lastly, since we were going to be selecting the top-x games later in the application, we already sorted the data items by their rank."
   ]
  },
  {
   "cell_type": "code",
   "execution_count": 14,
   "id": "d0106b38",
   "metadata": {},
   "outputs": [],
   "source": [
    "bgg_gamesitems = bgg_gamesitems.sort_values(by=['rank'])"
   ]
  },
  {
   "cell_type": "code",
   "execution_count": 15,
   "id": "8b855f35",
   "metadata": {},
   "outputs": [],
   "source": [
    "bgg_gamesitems.to_csv('bgg_Gameitems_clean.csv')"
   ]
  }
 ],
 "metadata": {
  "kernelspec": {
   "display_name": "Python 3 (ipykernel)",
   "language": "python",
   "name": "python3"
  },
  "language_info": {
   "codemirror_mode": {
    "name": "ipython",
    "version": 3
   },
   "file_extension": ".py",
   "mimetype": "text/x-python",
   "name": "python",
   "nbconvert_exporter": "python",
   "pygments_lexer": "ipython3",
   "version": "3.9.13"
  }
 },
 "nbformat": 4,
 "nbformat_minor": 5
}
